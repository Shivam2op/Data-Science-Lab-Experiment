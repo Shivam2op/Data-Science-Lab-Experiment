{
 "cells": [
  {
   "cell_type": "code",
   "execution_count": 13,
   "id": "bb3b6740",
   "metadata": {},
   "outputs": [],
   "source": [
    "import pandas as pd\n",
    "import numpy as np\n",
    "import seaborn as sns"
   ]
  },
  {
   "cell_type": "code",
   "execution_count": 16,
   "id": "df69beed",
   "metadata": {},
   "outputs": [],
   "source": [
    "data = {'Student_ID': ['001', '002', '003', '004', '005'],\n",
    "        'Name': ['John', 'Emily', 'David', 'Sarah', 'Michael'],\n",
    "        'Gender': ['M', 'F', 'M', 'F', 'M'],\n",
    "        'Age': [18,np.nan, 20, 18, 19],\n",
    "        'Grade_Level': [3, 8, 8, 10, 12],\n",
    "        'Math_Score': [80, 90, np.nan, 85, 95],\n",
    "        'English_Score': [85, 80, 90, 95, 85],\n",
    "        'Science_Score': [70, 80, 85, 90, 75]}"
   ]
  },
  {
   "cell_type": "code",
   "execution_count": 17,
   "id": "232dce27",
   "metadata": {},
   "outputs": [],
   "source": [
    "df = pd.DataFrame(data)"
   ]
  },
  {
   "cell_type": "code",
   "execution_count": 18,
   "id": "8d23c4cb",
   "metadata": {},
   "outputs": [
    {
     "data": {
      "text/html": [
       "<div>\n",
       "<style scoped>\n",
       "    .dataframe tbody tr th:only-of-type {\n",
       "        vertical-align: middle;\n",
       "    }\n",
       "\n",
       "    .dataframe tbody tr th {\n",
       "        vertical-align: top;\n",
       "    }\n",
       "\n",
       "    .dataframe thead th {\n",
       "        text-align: right;\n",
       "    }\n",
       "</style>\n",
       "<table border=\"1\" class=\"dataframe\">\n",
       "  <thead>\n",
       "    <tr style=\"text-align: right;\">\n",
       "      <th></th>\n",
       "      <th>Student_ID</th>\n",
       "      <th>Name</th>\n",
       "      <th>Gender</th>\n",
       "      <th>Age</th>\n",
       "      <th>Grade_Level</th>\n",
       "      <th>Math_Score</th>\n",
       "      <th>English_Score</th>\n",
       "      <th>Science_Score</th>\n",
       "    </tr>\n",
       "  </thead>\n",
       "  <tbody>\n",
       "    <tr>\n",
       "      <th>0</th>\n",
       "      <td>001</td>\n",
       "      <td>John</td>\n",
       "      <td>M</td>\n",
       "      <td>18.0</td>\n",
       "      <td>3</td>\n",
       "      <td>80.0</td>\n",
       "      <td>85</td>\n",
       "      <td>70</td>\n",
       "    </tr>\n",
       "    <tr>\n",
       "      <th>1</th>\n",
       "      <td>002</td>\n",
       "      <td>Emily</td>\n",
       "      <td>F</td>\n",
       "      <td>NaN</td>\n",
       "      <td>8</td>\n",
       "      <td>90.0</td>\n",
       "      <td>80</td>\n",
       "      <td>80</td>\n",
       "    </tr>\n",
       "    <tr>\n",
       "      <th>2</th>\n",
       "      <td>003</td>\n",
       "      <td>David</td>\n",
       "      <td>M</td>\n",
       "      <td>20.0</td>\n",
       "      <td>8</td>\n",
       "      <td>NaN</td>\n",
       "      <td>90</td>\n",
       "      <td>85</td>\n",
       "    </tr>\n",
       "    <tr>\n",
       "      <th>3</th>\n",
       "      <td>004</td>\n",
       "      <td>Sarah</td>\n",
       "      <td>F</td>\n",
       "      <td>18.0</td>\n",
       "      <td>10</td>\n",
       "      <td>85.0</td>\n",
       "      <td>95</td>\n",
       "      <td>90</td>\n",
       "    </tr>\n",
       "    <tr>\n",
       "      <th>4</th>\n",
       "      <td>005</td>\n",
       "      <td>Michael</td>\n",
       "      <td>M</td>\n",
       "      <td>19.0</td>\n",
       "      <td>12</td>\n",
       "      <td>95.0</td>\n",
       "      <td>85</td>\n",
       "      <td>75</td>\n",
       "    </tr>\n",
       "  </tbody>\n",
       "</table>\n",
       "</div>"
      ],
      "text/plain": [
       "  Student_ID     Name Gender   Age  Grade_Level  Math_Score  English_Score  \\\n",
       "0        001     John      M  18.0            3        80.0             85   \n",
       "1        002    Emily      F   NaN            8        90.0             80   \n",
       "2        003    David      M  20.0            8         NaN             90   \n",
       "3        004    Sarah      F  18.0           10        85.0             95   \n",
       "4        005  Michael      M  19.0           12        95.0             85   \n",
       "\n",
       "   Science_Score  \n",
       "0             70  \n",
       "1             80  \n",
       "2             85  \n",
       "3             90  \n",
       "4             75  "
      ]
     },
     "execution_count": 18,
     "metadata": {},
     "output_type": "execute_result"
    }
   ],
   "source": [
    "df"
   ]
  },
  {
   "cell_type": "code",
   "execution_count": 19,
   "id": "a17c1988",
   "metadata": {},
   "outputs": [],
   "source": [
    "df = df.interpolate()"
   ]
  },
  {
   "cell_type": "code",
   "execution_count": 21,
   "id": "97b17125",
   "metadata": {},
   "outputs": [
    {
     "data": {
      "text/html": [
       "<div>\n",
       "<style scoped>\n",
       "    .dataframe tbody tr th:only-of-type {\n",
       "        vertical-align: middle;\n",
       "    }\n",
       "\n",
       "    .dataframe tbody tr th {\n",
       "        vertical-align: top;\n",
       "    }\n",
       "\n",
       "    .dataframe thead th {\n",
       "        text-align: right;\n",
       "    }\n",
       "</style>\n",
       "<table border=\"1\" class=\"dataframe\">\n",
       "  <thead>\n",
       "    <tr style=\"text-align: right;\">\n",
       "      <th></th>\n",
       "      <th>Student_ID</th>\n",
       "      <th>Name</th>\n",
       "      <th>Gender</th>\n",
       "      <th>Age</th>\n",
       "      <th>Grade_Level</th>\n",
       "      <th>Math_Score</th>\n",
       "      <th>English_Score</th>\n",
       "      <th>Science_Score</th>\n",
       "    </tr>\n",
       "  </thead>\n",
       "  <tbody>\n",
       "    <tr>\n",
       "      <th>0</th>\n",
       "      <td>001</td>\n",
       "      <td>John</td>\n",
       "      <td>M</td>\n",
       "      <td>18.0</td>\n",
       "      <td>3</td>\n",
       "      <td>80.0</td>\n",
       "      <td>85</td>\n",
       "      <td>70</td>\n",
       "    </tr>\n",
       "    <tr>\n",
       "      <th>1</th>\n",
       "      <td>002</td>\n",
       "      <td>Emily</td>\n",
       "      <td>F</td>\n",
       "      <td>19.0</td>\n",
       "      <td>8</td>\n",
       "      <td>90.0</td>\n",
       "      <td>80</td>\n",
       "      <td>80</td>\n",
       "    </tr>\n",
       "    <tr>\n",
       "      <th>2</th>\n",
       "      <td>003</td>\n",
       "      <td>David</td>\n",
       "      <td>M</td>\n",
       "      <td>20.0</td>\n",
       "      <td>8</td>\n",
       "      <td>87.5</td>\n",
       "      <td>90</td>\n",
       "      <td>85</td>\n",
       "    </tr>\n",
       "    <tr>\n",
       "      <th>3</th>\n",
       "      <td>004</td>\n",
       "      <td>Sarah</td>\n",
       "      <td>F</td>\n",
       "      <td>18.0</td>\n",
       "      <td>10</td>\n",
       "      <td>85.0</td>\n",
       "      <td>95</td>\n",
       "      <td>90</td>\n",
       "    </tr>\n",
       "    <tr>\n",
       "      <th>4</th>\n",
       "      <td>005</td>\n",
       "      <td>Michael</td>\n",
       "      <td>M</td>\n",
       "      <td>19.0</td>\n",
       "      <td>12</td>\n",
       "      <td>95.0</td>\n",
       "      <td>85</td>\n",
       "      <td>75</td>\n",
       "    </tr>\n",
       "  </tbody>\n",
       "</table>\n",
       "</div>"
      ],
      "text/plain": [
       "  Student_ID     Name Gender   Age  Grade_Level  Math_Score  English_Score  \\\n",
       "0        001     John      M  18.0            3        80.0             85   \n",
       "1        002    Emily      F  19.0            8        90.0             80   \n",
       "2        003    David      M  20.0            8        87.5             90   \n",
       "3        004    Sarah      F  18.0           10        85.0             95   \n",
       "4        005  Michael      M  19.0           12        95.0             85   \n",
       "\n",
       "   Science_Score  \n",
       "0             70  \n",
       "1             80  \n",
       "2             85  \n",
       "3             90  \n",
       "4             75  "
      ]
     },
     "execution_count": 21,
     "metadata": {},
     "output_type": "execute_result"
    }
   ],
   "source": [
    "df"
   ]
  },
  {
   "cell_type": "code",
   "execution_count": 22,
   "id": "5777795e",
   "metadata": {},
   "outputs": [
    {
     "name": "stderr",
     "output_type": "stream",
     "text": [
      "C:\\Users\\Omkar\\AppData\\Local\\Temp\\ipykernel_17772\\2788845190.py:1: UserWarning: \n",
      "\n",
      "`distplot` is a deprecated function and will be removed in seaborn v0.14.0.\n",
      "\n",
      "Please adapt your code to use either `displot` (a figure-level function with\n",
      "similar flexibility) or `histplot` (an axes-level function for histograms).\n",
      "\n",
      "For a guide to updating your code to use the new functions, please see\n",
      "https://gist.github.com/mwaskom/de44147ed2974457ad6372750bbe5751\n",
      "\n",
      "  sns.distplot([df['Grade_Level']])\n"
     ]
    },
    {
     "data": {
      "text/plain": [
       "<Axes: ylabel='Density'>"
      ]
     },
     "execution_count": 22,
     "metadata": {},
     "output_type": "execute_result"
    },
    {
     "data": {
      "image/png": "[encoded data removed]",
      "text/plain": [
       "<Figure size 640x480 with 1 Axes>"
      ]
     },
     "metadata": {},
     "output_type": "display_data"
    }
   ],
   "source": [
    "sns.distplot([df['Grade_Level']])"
   ]
  },
  {
   "cell_type": "code",
   "execution_count": null,
   "id": "ef0a8b4e",
   "metadata": {},
   "outputs": [],
   "source": []
  }
 ],
 "metadata": {
  "kernelspec": {
   "display_name": "Python 3 (ipykernel)",
   "language": "python",
   "name": "python3"
  },
  "language_info": {
   "codemirror_mode": {
    "name": "ipython",
    "version": 3
   },
   "file_extension": ".py",
   "mimetype": "text/x-python",
   "name": "python",
   "nbconvert_exporter": "python",
   "pygments_lexer": "ipython3",
   "version": "3.10.9"
  }
 },
 "nbformat": 4,
 "nbformat_minor": 5
}
