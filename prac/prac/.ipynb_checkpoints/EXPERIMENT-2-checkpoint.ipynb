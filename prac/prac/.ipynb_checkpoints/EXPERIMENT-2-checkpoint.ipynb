{
 "cells": [
  {
   "cell_type": "code",
   "execution_count": null,
   "id": "72c5d3da",
   "metadata": {},
   "outputs": [],
   "source": []
  },
  {
   "cell_type": "code",
   "execution_count": 1,
   "id": "fc375e0c",
   "metadata": {},
   "outputs": [],
   "source": [
    "import pandas as pd \n",
    "import numpy as np"
   ]
  },
  {
   "cell_type": "code",
   "execution_count": 2,
   "id": "73a2383e",
   "metadata": {},
   "outputs": [],
   "source": [
    "Dict = {'Rollno':[1,2,3,4,5],\n",
    "        'Names':['Sam','Dam','Ram','Aan','Zan'],\n",
    "        'Math':[50,60,70,80,np.nan],\n",
    "        'Eng':[60,70,80,np.nan,50],\n",
    "        'Social':[70,80,np.nan,50,60],\n",
    "        'Geo':[80,np.nan,50,60,70],\n",
    "        'Science':[np.nan,50,60,70,80]}"
   ]
  },
  {
   "cell_type": "code",
   "execution_count": 3,
   "id": "d74a4041",
   "metadata": {},
   "outputs": [
    {
     "data": {
      "text/html": [
       "<div>\n",
       "<style scoped>\n",
       "    .dataframe tbody tr th:only-of-type {\n",
       "        vertical-align: middle;\n",
       "    }\n",
       "\n",
       "    .dataframe tbody tr th {\n",
       "        vertical-align: top;\n",
       "    }\n",
       "\n",
       "    .dataframe thead th {\n",
       "        text-align: right;\n",
       "    }\n",
       "</style>\n",
       "<table border=\"1\" class=\"dataframe\">\n",
       "  <thead>\n",
       "    <tr style=\"text-align: right;\">\n",
       "      <th></th>\n",
       "      <th>Rollno</th>\n",
       "      <th>Names</th>\n",
       "      <th>Math</th>\n",
       "      <th>Eng</th>\n",
       "      <th>Social</th>\n",
       "      <th>Geo</th>\n",
       "      <th>Science</th>\n",
       "    </tr>\n",
       "  </thead>\n",
       "  <tbody>\n",
       "    <tr>\n",
       "      <th>0</th>\n",
       "      <td>1</td>\n",
       "      <td>Sam</td>\n",
       "      <td>50.0</td>\n",
       "      <td>60.0</td>\n",
       "      <td>70.0</td>\n",
       "      <td>80.0</td>\n",
       "      <td>NaN</td>\n",
       "    </tr>\n",
       "    <tr>\n",
       "      <th>1</th>\n",
       "      <td>2</td>\n",
       "      <td>Dam</td>\n",
       "      <td>60.0</td>\n",
       "      <td>70.0</td>\n",
       "      <td>80.0</td>\n",
       "      <td>NaN</td>\n",
       "      <td>50.0</td>\n",
       "    </tr>\n",
       "    <tr>\n",
       "      <th>2</th>\n",
       "      <td>3</td>\n",
       "      <td>Ram</td>\n",
       "      <td>70.0</td>\n",
       "      <td>80.0</td>\n",
       "      <td>NaN</td>\n",
       "      <td>50.0</td>\n",
       "      <td>60.0</td>\n",
       "    </tr>\n",
       "    <tr>\n",
       "      <th>3</th>\n",
       "      <td>4</td>\n",
       "      <td>Aan</td>\n",
       "      <td>80.0</td>\n",
       "      <td>NaN</td>\n",
       "      <td>50.0</td>\n",
       "      <td>60.0</td>\n",
       "      <td>70.0</td>\n",
       "    </tr>\n",
       "    <tr>\n",
       "      <th>4</th>\n",
       "      <td>5</td>\n",
       "      <td>Zan</td>\n",
       "      <td>NaN</td>\n",
       "      <td>50.0</td>\n",
       "      <td>60.0</td>\n",
       "      <td>70.0</td>\n",
       "      <td>80.0</td>\n",
       "    </tr>\n",
       "  </tbody>\n",
       "</table>\n",
       "</div>"
      ],
      "text/plain": [
       "   Rollno Names  Math   Eng  Social   Geo  Science\n",
       "0       1   Sam  50.0  60.0    70.0  80.0      NaN\n",
       "1       2   Dam  60.0  70.0    80.0   NaN     50.0\n",
       "2       3   Ram  70.0  80.0     NaN  50.0     60.0\n",
       "3       4   Aan  80.0   NaN    50.0  60.0     70.0\n",
       "4       5   Zan   NaN  50.0    60.0  70.0     80.0"
      ]
     },
     "execution_count": 3,
     "metadata": {},
     "output_type": "execute_result"
    }
   ],
   "source": [
    "df=pd.DataFrame(Dict)\n",
    "df"
   ]
  },
  {
   "cell_type": "code",
   "execution_count": 4,
   "id": "e754eb32",
   "metadata": {},
   "outputs": [
    {
     "name": "stdout",
     "output_type": "stream",
     "text": [
      "<class 'pandas.core.frame.DataFrame'>\n",
      "RangeIndex: 5 entries, 0 to 4\n",
      "Data columns (total 7 columns):\n",
      " #   Column   Non-Null Count  Dtype  \n",
      "---  ------   --------------  -----  \n",
      " 0   Rollno   5 non-null      int64  \n",
      " 1   Names    5 non-null      object \n",
      " 2   Math     4 non-null      float64\n",
      " 3   Eng      4 non-null      float64\n",
      " 4   Social   4 non-null      float64\n",
      " 5   Geo      4 non-null      float64\n",
      " 6   Science  4 non-null      float64\n",
      "dtypes: float64(5), int64(1), object(1)\n",
      "memory usage: 408.0+ bytes\n"
     ]
    }
   ],
   "source": [
    "df.info()"
   ]
  },
  {
   "cell_type": "code",
   "execution_count": 5,
   "id": "42d5b765",
   "metadata": {},
   "outputs": [
    {
     "data": {
      "text/html": [
       "<div>\n",
       "<style scoped>\n",
       "    .dataframe tbody tr th:only-of-type {\n",
       "        vertical-align: middle;\n",
       "    }\n",
       "\n",
       "    .dataframe tbody tr th {\n",
       "        vertical-align: top;\n",
       "    }\n",
       "\n",
       "    .dataframe thead th {\n",
       "        text-align: right;\n",
       "    }\n",
       "</style>\n",
       "<table border=\"1\" class=\"dataframe\">\n",
       "  <thead>\n",
       "    <tr style=\"text-align: right;\">\n",
       "      <th></th>\n",
       "      <th>Rollno</th>\n",
       "      <th>Math</th>\n",
       "      <th>Eng</th>\n",
       "      <th>Social</th>\n",
       "      <th>Geo</th>\n",
       "      <th>Science</th>\n",
       "    </tr>\n",
       "  </thead>\n",
       "  <tbody>\n",
       "    <tr>\n",
       "      <th>count</th>\n",
       "      <td>5.000000</td>\n",
       "      <td>4.000000</td>\n",
       "      <td>4.000000</td>\n",
       "      <td>4.000000</td>\n",
       "      <td>4.000000</td>\n",
       "      <td>4.000000</td>\n",
       "    </tr>\n",
       "    <tr>\n",
       "      <th>mean</th>\n",
       "      <td>3.000000</td>\n",
       "      <td>65.000000</td>\n",
       "      <td>65.000000</td>\n",
       "      <td>65.000000</td>\n",
       "      <td>65.000000</td>\n",
       "      <td>65.000000</td>\n",
       "    </tr>\n",
       "    <tr>\n",
       "      <th>std</th>\n",
       "      <td>1.581139</td>\n",
       "      <td>12.909944</td>\n",
       "      <td>12.909944</td>\n",
       "      <td>12.909944</td>\n",
       "      <td>12.909944</td>\n",
       "      <td>12.909944</td>\n",
       "    </tr>\n",
       "    <tr>\n",
       "      <th>min</th>\n",
       "      <td>1.000000</td>\n",
       "      <td>50.000000</td>\n",
       "      <td>50.000000</td>\n",
       "      <td>50.000000</td>\n",
       "      <td>50.000000</td>\n",
       "      <td>50.000000</td>\n",
       "    </tr>\n",
       "    <tr>\n",
       "      <th>25%</th>\n",
       "      <td>2.000000</td>\n",
       "      <td>57.500000</td>\n",
       "      <td>57.500000</td>\n",
       "      <td>57.500000</td>\n",
       "      <td>57.500000</td>\n",
       "      <td>57.500000</td>\n",
       "    </tr>\n",
       "    <tr>\n",
       "      <th>50%</th>\n",
       "      <td>3.000000</td>\n",
       "      <td>65.000000</td>\n",
       "      <td>65.000000</td>\n",
       "      <td>65.000000</td>\n",
       "      <td>65.000000</td>\n",
       "      <td>65.000000</td>\n",
       "    </tr>\n",
       "    <tr>\n",
       "      <th>75%</th>\n",
       "      <td>4.000000</td>\n",
       "      <td>72.500000</td>\n",
       "      <td>72.500000</td>\n",
       "      <td>72.500000</td>\n",
       "      <td>72.500000</td>\n",
       "      <td>72.500000</td>\n",
       "    </tr>\n",
       "    <tr>\n",
       "      <th>max</th>\n",
       "      <td>5.000000</td>\n",
       "      <td>80.000000</td>\n",
       "      <td>80.000000</td>\n",
       "      <td>80.000000</td>\n",
       "      <td>80.000000</td>\n",
       "      <td>80.000000</td>\n",
       "    </tr>\n",
       "  </tbody>\n",
       "</table>\n",
       "</div>"
      ],
      "text/plain": [
       "         Rollno       Math        Eng     Social        Geo    Science\n",
       "count  5.000000   4.000000   4.000000   4.000000   4.000000   4.000000\n",
       "mean   3.000000  65.000000  65.000000  65.000000  65.000000  65.000000\n",
       "std    1.581139  12.909944  12.909944  12.909944  12.909944  12.909944\n",
       "min    1.000000  50.000000  50.000000  50.000000  50.000000  50.000000\n",
       "25%    2.000000  57.500000  57.500000  57.500000  57.500000  57.500000\n",
       "50%    3.000000  65.000000  65.000000  65.000000  65.000000  65.000000\n",
       "75%    4.000000  72.500000  72.500000  72.500000  72.500000  72.500000\n",
       "max    5.000000  80.000000  80.000000  80.000000  80.000000  80.000000"
      ]
     },
     "execution_count": 5,
     "metadata": {},
     "output_type": "execute_result"
    }
   ],
   "source": [
    "df.describe()"
   ]
  },
  {
   "cell_type": "code",
   "execution_count": 6,
   "id": "c9a7fc2b",
   "metadata": {},
   "outputs": [
    {
     "data": {
      "text/plain": [
       "Rollno     0\n",
       "Names      0\n",
       "Math       1\n",
       "Eng        1\n",
       "Social     1\n",
       "Geo        1\n",
       "Science    1\n",
       "dtype: int64"
      ]
     },
     "execution_count": 6,
     "metadata": {},
     "output_type": "execute_result"
    }
   ],
   "source": [
    "df.isnull().sum()"
   ]
  },
  {
   "cell_type": "markdown",
   "id": "4e50e898",
   "metadata": {},
   "source": [
    "To fill data below null value as same of upper \n",
    "\n"
   ]
  },
  {
   "cell_type": "code",
   "execution_count": 7,
   "id": "9112f418",
   "metadata": {},
   "outputs": [],
   "source": [
    "# df.fillna(method ='pad')"
   ]
  },
  {
   "cell_type": "markdown",
   "id": "fe0e0a33",
   "metadata": {},
   "source": [
    "To fill data above same as lower"
   ]
  },
  {
   "cell_type": "code",
   "execution_count": 8,
   "id": "5d838bd4",
   "metadata": {},
   "outputs": [],
   "source": [
    "# df.fillna(method='bfill')"
   ]
  },
  {
   "cell_type": "code",
   "execution_count": 9,
   "id": "dbc4c687",
   "metadata": {},
   "outputs": [
    {
     "data": {
      "text/plain": [
       "0    80.0\n",
       "1    85.0\n",
       "2    50.0\n",
       "3    60.0\n",
       "4    70.0\n",
       "Name: Geo, dtype: float64"
      ]
     },
     "execution_count": 9,
     "metadata": {},
     "output_type": "execute_result"
    }
   ],
   "source": [
    "# filling a null values using fillna()\n",
    "df[\"Math\"].fillna(45, inplace = False)\n",
    "df[\"Eng\"].fillna(55, inplace = False)\n",
    "df[\"Science\"].fillna(65, inplace = False)\n",
    "df[\"Social\"].fillna(75, inplace = False)\n",
    "df[\"Geo\"].fillna(85, inplace = False)"
   ]
  },
  {
   "cell_type": "code",
   "execution_count": 11,
   "id": "2c606d10",
   "metadata": {},
   "outputs": [],
   "source": [
    "# filling a null values using fillna()\n",
    "\n",
    "df[\"Math\"].fillna(int(df[\"Math\"].mean()), inplace=True)"
   ]
  },
  {
   "cell_type": "code",
   "execution_count": 12,
   "id": "511014ca",
   "metadata": {},
   "outputs": [],
   "source": [
    "# using dropna() function \n",
    "# df.dropna()"
   ]
  },
  {
   "cell_type": "code",
   "execution_count": 13,
   "id": "d881bc60",
   "metadata": {},
   "outputs": [],
   "source": [
    "# making new data frame with dropped NA values\n",
    "df2 = df.dropna(axis = 1)"
   ]
  },
  {
   "cell_type": "code",
   "execution_count": 14,
   "id": "bdf7b016",
   "metadata": {},
   "outputs": [
    {
     "data": {
      "text/html": [
       "<div>\n",
       "<style scoped>\n",
       "    .dataframe tbody tr th:only-of-type {\n",
       "        vertical-align: middle;\n",
       "    }\n",
       "\n",
       "    .dataframe tbody tr th {\n",
       "        vertical-align: top;\n",
       "    }\n",
       "\n",
       "    .dataframe thead th {\n",
       "        text-align: right;\n",
       "    }\n",
       "</style>\n",
       "<table border=\"1\" class=\"dataframe\">\n",
       "  <thead>\n",
       "    <tr style=\"text-align: right;\">\n",
       "      <th></th>\n",
       "      <th>Rollno</th>\n",
       "      <th>Names</th>\n",
       "      <th>Math</th>\n",
       "    </tr>\n",
       "  </thead>\n",
       "  <tbody>\n",
       "    <tr>\n",
       "      <th>0</th>\n",
       "      <td>1</td>\n",
       "      <td>Sam</td>\n",
       "      <td>50.0</td>\n",
       "    </tr>\n",
       "    <tr>\n",
       "      <th>1</th>\n",
       "      <td>2</td>\n",
       "      <td>Dam</td>\n",
       "      <td>60.0</td>\n",
       "    </tr>\n",
       "    <tr>\n",
       "      <th>2</th>\n",
       "      <td>3</td>\n",
       "      <td>Ram</td>\n",
       "      <td>70.0</td>\n",
       "    </tr>\n",
       "    <tr>\n",
       "      <th>3</th>\n",
       "      <td>4</td>\n",
       "      <td>Aan</td>\n",
       "      <td>80.0</td>\n",
       "    </tr>\n",
       "    <tr>\n",
       "      <th>4</th>\n",
       "      <td>5</td>\n",
       "      <td>Zan</td>\n",
       "      <td>65.0</td>\n",
       "    </tr>\n",
       "  </tbody>\n",
       "</table>\n",
       "</div>"
      ],
      "text/plain": [
       "   Rollno Names  Math\n",
       "0       1   Sam  50.0\n",
       "1       2   Dam  60.0\n",
       "2       3   Ram  70.0\n",
       "3       4   Aan  80.0\n",
       "4       5   Zan  65.0"
      ]
     },
     "execution_count": 14,
     "metadata": {},
     "output_type": "execute_result"
    }
   ],
   "source": [
    "df2"
   ]
  },
  {
   "cell_type": "code",
   "execution_count": 15,
   "id": "fef8f6fb",
   "metadata": {},
   "outputs": [
    {
     "data": {
      "text/html": [
       "<div>\n",
       "<style scoped>\n",
       "    .dataframe tbody tr th:only-of-type {\n",
       "        vertical-align: middle;\n",
       "    }\n",
       "\n",
       "    .dataframe tbody tr th {\n",
       "        vertical-align: top;\n",
       "    }\n",
       "\n",
       "    .dataframe thead th {\n",
       "        text-align: right;\n",
       "    }\n",
       "</style>\n",
       "<table border=\"1\" class=\"dataframe\">\n",
       "  <thead>\n",
       "    <tr style=\"text-align: right;\">\n",
       "      <th></th>\n",
       "      <th>Rollno</th>\n",
       "      <th>Names</th>\n",
       "      <th>Math</th>\n",
       "      <th>Eng</th>\n",
       "      <th>Social</th>\n",
       "      <th>Geo</th>\n",
       "      <th>Science</th>\n",
       "    </tr>\n",
       "  </thead>\n",
       "  <tbody>\n",
       "    <tr>\n",
       "      <th>4</th>\n",
       "      <td>5</td>\n",
       "      <td>Zan</td>\n",
       "      <td>65.0</td>\n",
       "      <td>50.0</td>\n",
       "      <td>60.0</td>\n",
       "      <td>70.0</td>\n",
       "      <td>80.0</td>\n",
       "    </tr>\n",
       "  </tbody>\n",
       "</table>\n",
       "</div>"
      ],
      "text/plain": [
       "   Rollno Names  Math   Eng  Social   Geo  Science\n",
       "4       5   Zan  65.0  50.0    60.0  70.0     80.0"
      ]
     },
     "execution_count": 15,
     "metadata": {},
     "output_type": "execute_result"
    }
   ],
   "source": [
    "df3 = df.dropna(axis = 0)\n",
    "df3"
   ]
  },
  {
   "cell_type": "code",
   "execution_count": 16,
   "id": "ef8f391a",
   "metadata": {},
   "outputs": [
    {
     "data": {
      "text/html": [
       "<div>\n",
       "<style scoped>\n",
       "    .dataframe tbody tr th:only-of-type {\n",
       "        vertical-align: middle;\n",
       "    }\n",
       "\n",
       "    .dataframe tbody tr th {\n",
       "        vertical-align: top;\n",
       "    }\n",
       "\n",
       "    .dataframe thead th {\n",
       "        text-align: right;\n",
       "    }\n",
       "</style>\n",
       "<table border=\"1\" class=\"dataframe\">\n",
       "  <thead>\n",
       "    <tr style=\"text-align: right;\">\n",
       "      <th></th>\n",
       "      <th>Rollno</th>\n",
       "      <th>Names</th>\n",
       "      <th>Math</th>\n",
       "      <th>Eng</th>\n",
       "      <th>Social</th>\n",
       "      <th>Geo</th>\n",
       "      <th>Science</th>\n",
       "    </tr>\n",
       "  </thead>\n",
       "  <tbody>\n",
       "    <tr>\n",
       "      <th>0</th>\n",
       "      <td>1</td>\n",
       "      <td>Sam</td>\n",
       "      <td>50.0</td>\n",
       "      <td>60.0</td>\n",
       "      <td>70.0</td>\n",
       "      <td>80.0</td>\n",
       "      <td>65.0</td>\n",
       "    </tr>\n",
       "    <tr>\n",
       "      <th>1</th>\n",
       "      <td>2</td>\n",
       "      <td>Dam</td>\n",
       "      <td>60.0</td>\n",
       "      <td>70.0</td>\n",
       "      <td>80.0</td>\n",
       "      <td>85.0</td>\n",
       "      <td>50.0</td>\n",
       "    </tr>\n",
       "    <tr>\n",
       "      <th>2</th>\n",
       "      <td>3</td>\n",
       "      <td>Ram</td>\n",
       "      <td>70.0</td>\n",
       "      <td>80.0</td>\n",
       "      <td>75.0</td>\n",
       "      <td>50.0</td>\n",
       "      <td>60.0</td>\n",
       "    </tr>\n",
       "    <tr>\n",
       "      <th>3</th>\n",
       "      <td>4</td>\n",
       "      <td>Aan</td>\n",
       "      <td>80.0</td>\n",
       "      <td>55.0</td>\n",
       "      <td>50.0</td>\n",
       "      <td>60.0</td>\n",
       "      <td>70.0</td>\n",
       "    </tr>\n",
       "    <tr>\n",
       "      <th>4</th>\n",
       "      <td>5</td>\n",
       "      <td>Zan</td>\n",
       "      <td>65.0</td>\n",
       "      <td>50.0</td>\n",
       "      <td>60.0</td>\n",
       "      <td>70.0</td>\n",
       "      <td>80.0</td>\n",
       "    </tr>\n",
       "  </tbody>\n",
       "</table>\n",
       "</div>"
      ],
      "text/plain": [
       "   Rollno Names  Math   Eng  Social   Geo  Science\n",
       "0       1   Sam  50.0  60.0    70.0  80.0     65.0\n",
       "1       2   Dam  60.0  70.0    80.0  85.0     50.0\n",
       "2       3   Ram  70.0  80.0    75.0  50.0     60.0\n",
       "3       4   Aan  80.0  55.0    50.0  60.0     70.0\n",
       "4       5   Zan  65.0  50.0    60.0  70.0     80.0"
      ]
     },
     "execution_count": 16,
     "metadata": {},
     "output_type": "execute_result"
    }
   ],
   "source": [
    "df[\"Math\"].fillna(45, inplace = True)\n",
    "df[\"Eng\"].fillna(55, inplace = True)\n",
    "df[\"Science\"].fillna(65, inplace = True)\n",
    "df[\"Social\"].fillna(75, inplace = True)\n",
    "df[\"Geo\"].fillna(85, inplace = True)\n",
    "df"
   ]
  },
  {
   "cell_type": "markdown",
   "id": "0a5be5da",
   "metadata": {},
   "source": [
    "# OUTLIERS"
   ]
  },
  {
   "cell_type": "code",
   "execution_count": 17,
   "id": "3fdb5437",
   "metadata": {},
   "outputs": [
    {
     "name": "stdout",
     "output_type": "stream",
     "text": [
      "Old Shape:  (5, 7)\n",
      "New Shape:  (5, 7)\n",
      "Upper bound : (array([], dtype=int64),)\n",
      "lower bound : (array([], dtype=int64),)\n"
     ]
    },
    {
     "name": "stderr",
     "output_type": "stream",
     "text": [
      "/var/folders/z6/40r9qmyn6d9cft3g1q1nwvdw0000gn/T/ipykernel_52988/4267291837.py:9: DeprecationWarning: the `interpolation=` argument to percentile was renamed to `method=`, which has additional options.\n",
      "Users of the modes 'nearest', 'lower', 'higher', or 'midpoint' are encouraged to review the method they used. (Deprecated NumPy 1.22)\n",
      "  Q1 = np.percentile(df['Geo'], 25, interpolation = 'midpoint')\n",
      "/var/folders/z6/40r9qmyn6d9cft3g1q1nwvdw0000gn/T/ipykernel_52988/4267291837.py:11: DeprecationWarning: the `interpolation=` argument to percentile was renamed to `method=`, which has additional options.\n",
      "Users of the modes 'nearest', 'lower', 'higher', or 'midpoint' are encouraged to review the method they used. (Deprecated NumPy 1.22)\n",
      "  Q3 = np.percentile(df['Geo'], 75, interpolation = 'midpoint')\n"
     ]
    }
   ],
   "source": [
    "\n",
    "# Inter Qurtile Range (IQR)\n",
    "\n",
    "import sklearn\n",
    "\n",
    "\n",
    "''' Detection '''\n",
    "# IQR\n",
    "\n",
    "Q1 = np.percentile(df['Geo'], 25, interpolation = 'midpoint')\n",
    "\n",
    "Q3 = np.percentile(df['Geo'], 75, interpolation = 'midpoint')\n",
    "IQR = Q3 - Q1\n",
    "\n",
    "\n",
    "print(\"Old Shape: \", df.shape)\n",
    "\n",
    "# Upper bound\n",
    "upper = np.where(df['Geo'] >= (Q3+1.5*IQR))\n",
    "# Lower bound\n",
    "lower = np.where(df['Geo'] <= (Q1-1.5*IQR))\n",
    "\n",
    "''' Removing the Outliers '''\n",
    "df.drop(upper[0], inplace = True)\n",
    "df.drop(lower[0], inplace = True)\n",
    "\n",
    "print(\"New Shape: \", df.shape)\n",
    "\n",
    "print(\"Upper bound :\",upper)\n",
    "print(\"lower bound :\",lower)"
   ]
  },
  {
   "cell_type": "markdown",
   "id": "4a2db189",
   "metadata": {},
   "source": [
    "The <b>Z-score</b>, also known as standard score, is a statistical measure that quantifies the number of\n",
    "standard deviations a data point is from the mean of a distribution. It is used to standardize and \n",
    "compare data points across different distributions.\n",
    "\n",
    "The formula to calculate the Z-score of a data point, given its value x, mean μ, and \n",
    "standard deviation σ, is:\n",
    "\n",
    "## Z = (x - μ) / σ\n",
    "\n",
    "The Z-score indicates how many standard deviations a data point is above or below the mean. A positive Z-score means the data point is above the mean, while a negative Z-score means it is below the mean."
   ]
  },
  {
   "cell_type": "code",
   "execution_count": 18,
   "id": "7ff1b538",
   "metadata": {},
   "outputs": [
    {
     "name": "stdout",
     "output_type": "stream",
     "text": [
      "0    1.5\n",
      "1    0.5\n",
      "2    0.5\n",
      "3    1.5\n",
      "4    0.0\n",
      "Name: Math, dtype: float64\n"
     ]
    }
   ],
   "source": [
    "# Z score\n",
    "\n",
    "\n",
    "from scipy import stats\n",
    "import numpy as np\n",
    " \n",
    "z = np.abs(stats.zscore(df['Math']))\n",
    "print(z)"
   ]
  },
  {
   "cell_type": "code",
   "execution_count": 19,
   "id": "bcdf4e6b",
   "metadata": {},
   "outputs": [
    {
     "name": "stdout",
     "output_type": "stream",
     "text": [
      "(array([], dtype=int64),)\n"
     ]
    }
   ],
   "source": [
    "threshold = 3\n",
    " \n",
    "# Position of the outlier\n",
    "print(np.where(z > 3))"
   ]
  },
  {
   "cell_type": "markdown",
   "id": "326b401f",
   "metadata": {},
   "source": [
    "# Transformation"
   ]
  },
  {
   "cell_type": "markdown",
   "id": "08a619d8",
   "metadata": {},
   "source": [
    "The transformed column \"Math_transformed\" contains the logarithmic values of the \"Math\" column. This transformation can help decrease skewness and approximate a normal distribution for the variable."
   ]
  },
  {
   "cell_type": "code",
   "execution_count": 20,
   "id": "ab7fa4e7",
   "metadata": {},
   "outputs": [],
   "source": [
    "df['Math_transformed'] = np.log(df['Math'])"
   ]
  },
  {
   "cell_type": "code",
   "execution_count": 21,
   "id": "eced173d",
   "metadata": {},
   "outputs": [
    {
     "data": {
      "text/html": [
       "<div>\n",
       "<style scoped>\n",
       "    .dataframe tbody tr th:only-of-type {\n",
       "        vertical-align: middle;\n",
       "    }\n",
       "\n",
       "    .dataframe tbody tr th {\n",
       "        vertical-align: top;\n",
       "    }\n",
       "\n",
       "    .dataframe thead th {\n",
       "        text-align: right;\n",
       "    }\n",
       "</style>\n",
       "<table border=\"1\" class=\"dataframe\">\n",
       "  <thead>\n",
       "    <tr style=\"text-align: right;\">\n",
       "      <th></th>\n",
       "      <th>Rollno</th>\n",
       "      <th>Names</th>\n",
       "      <th>Math</th>\n",
       "      <th>Eng</th>\n",
       "      <th>Social</th>\n",
       "      <th>Geo</th>\n",
       "      <th>Science</th>\n",
       "      <th>Math_transformed</th>\n",
       "    </tr>\n",
       "  </thead>\n",
       "  <tbody>\n",
       "    <tr>\n",
       "      <th>0</th>\n",
       "      <td>1</td>\n",
       "      <td>Sam</td>\n",
       "      <td>50.0</td>\n",
       "      <td>60.0</td>\n",
       "      <td>70.0</td>\n",
       "      <td>80.0</td>\n",
       "      <td>65.0</td>\n",
       "      <td>3.912023</td>\n",
       "    </tr>\n",
       "    <tr>\n",
       "      <th>1</th>\n",
       "      <td>2</td>\n",
       "      <td>Dam</td>\n",
       "      <td>60.0</td>\n",
       "      <td>70.0</td>\n",
       "      <td>80.0</td>\n",
       "      <td>85.0</td>\n",
       "      <td>50.0</td>\n",
       "      <td>4.094345</td>\n",
       "    </tr>\n",
       "    <tr>\n",
       "      <th>2</th>\n",
       "      <td>3</td>\n",
       "      <td>Ram</td>\n",
       "      <td>70.0</td>\n",
       "      <td>80.0</td>\n",
       "      <td>75.0</td>\n",
       "      <td>50.0</td>\n",
       "      <td>60.0</td>\n",
       "      <td>4.248495</td>\n",
       "    </tr>\n",
       "    <tr>\n",
       "      <th>3</th>\n",
       "      <td>4</td>\n",
       "      <td>Aan</td>\n",
       "      <td>80.0</td>\n",
       "      <td>55.0</td>\n",
       "      <td>50.0</td>\n",
       "      <td>60.0</td>\n",
       "      <td>70.0</td>\n",
       "      <td>4.382027</td>\n",
       "    </tr>\n",
       "    <tr>\n",
       "      <th>4</th>\n",
       "      <td>5</td>\n",
       "      <td>Zan</td>\n",
       "      <td>65.0</td>\n",
       "      <td>50.0</td>\n",
       "      <td>60.0</td>\n",
       "      <td>70.0</td>\n",
       "      <td>80.0</td>\n",
       "      <td>4.174387</td>\n",
       "    </tr>\n",
       "  </tbody>\n",
       "</table>\n",
       "</div>"
      ],
      "text/plain": [
       "   Rollno Names  Math   Eng  Social   Geo  Science  Math_transformed\n",
       "0       1   Sam  50.0  60.0    70.0  80.0     65.0          3.912023\n",
       "1       2   Dam  60.0  70.0    80.0  85.0     50.0          4.094345\n",
       "2       3   Ram  70.0  80.0    75.0  50.0     60.0          4.248495\n",
       "3       4   Aan  80.0  55.0    50.0  60.0     70.0          4.382027\n",
       "4       5   Zan  65.0  50.0    60.0  70.0     80.0          4.174387"
      ]
     },
     "execution_count": 21,
     "metadata": {},
     "output_type": "execute_result"
    }
   ],
   "source": [
    "df"
   ]
  },
  {
   "cell_type": "markdown",
   "id": "0b2b9db4",
   "metadata": {},
   "source": [
    "<b>Logarithmic Transformation:</b>\n",
    "\n",
    "        Apply a logarithmic function (e.g., np.log) to the variable.\n",
    "        This transformation is suitable for positively skewed data.\n",
    "\n",
    "<b>Square Root Transformation:</b>\n",
    "\n",
    "        Apply a square root function (e.g., np.sqrt) to the variable.\n",
    "        This transformation is suitable for positively skewed data.\n",
    "\n",
    "------------------------------------------------------------------------------------------------------------------------------------------------------------------------------------------------------------------------------------"
   ]
  },
  {
   "cell_type": "markdown",
   "id": "d144d6af",
   "metadata": {},
   "source": [
    "<b>1) Logarithmic Transformation:</b>\n",
    "\n",
    "      If the relationship between the variables is exponential, taking the logarithm of one or both variables can often linearize the relationship.\n",
    "      For example, if you have variables x and y and suspect that the relationship is of the form y = a * exp(b * x), you can transform the equation to log(y) = log(a) + b * x, which is a linear equation.\n",
    "\n",
    "\n",
    "<b>2) Square Root Transformation:</b>\n",
    "\n",
    "     If the relationship is quadratic (i.e., y = a * x^2 + b * x + c), taking the square root of y or x (or both) can linearize the relationship.\n",
    "     For example, if you have y = a * x^2 + b * x + c, you can transform it to sqrt(y) = sqrt(a) * x + sqrt(b) * sqrt(x) + sqrt(c), which is a linear equation.\n",
    "\n",
    "\n",
    "\n",
    "<b>3) Reciprocal Transformation:</b>\n",
    "\n",
    "    If the relationship is inverse (i.e., y = a / x), taking the reciprocal of y or x can linearize the relationship.\n",
    "    For example, if you have y = a / x, you can transform it to 1/y = a * (1/x), which is a linear equation.\n",
    "\n",
    "\n",
    "<b>4) Polynomial Transformation:</b>\n",
    "\n",
    "    If the relationship is polynomial of higher degree (e.g., y = a * x^3 + b * x^2 + c * x + d), you can create additional polynomial terms by raising x to different powers, and then fit a linear regression model using these new terms as features.\n",
    "    \n",
    "    \n",
    "    \n",
    "    Remember, the choice of transformation depends on the specific relationship between the variables. You may need to explore and experiment with different transformations to find the one that linearizes the relationship most effectively. Additionally, it's important to interpret the results of the transformed variables in the context of the original problem to ensure the transformed relationship makes sense."
   ]
  },
  {
   "cell_type": "code",
   "execution_count": null,
   "id": "2095bd78",
   "metadata": {},
   "outputs": [],
   "source": []
  },
  {
   "cell_type": "code",
   "execution_count": null,
   "id": "1ca712ec",
   "metadata": {},
   "outputs": [],
   "source": []
  },
  {
   "cell_type": "code",
   "execution_count": null,
   "id": "7d2472f6",
   "metadata": {},
   "outputs": [],
   "source": []
  },
  {
   "cell_type": "code",
   "execution_count": null,
   "id": "a44db86e",
   "metadata": {},
   "outputs": [],
   "source": []
  },
  {
   "cell_type": "code",
   "execution_count": null,
   "id": "b00ff83b",
   "metadata": {},
   "outputs": [],
   "source": []
  },
  {
   "cell_type": "markdown",
   "id": "edfc5f1d",
   "metadata": {},
   "source": [
    "# Extra\n"
   ]
  },
  {
   "cell_type": "code",
   "execution_count": null,
   "id": "51c791c5",
   "metadata": {},
   "outputs": [],
   "source": [
    "result = df.transform(func = ['sqrt', 'exp'])\n",
    "result"
   ]
  },
  {
   "cell_type": "markdown",
   "id": "309392ab",
   "metadata": {},
   "source": [
    "# Skewness"
   ]
  },
  {
   "cell_type": "code",
   "execution_count": null,
   "id": "3e84431c",
   "metadata": {},
   "outputs": [],
   "source": [
    "df.skew()"
   ]
  },
  {
   "cell_type": "code",
   "execution_count": null,
   "id": "b51d7be6",
   "metadata": {},
   "outputs": [],
   "source": []
  }
 ],
 "metadata": {
  "kernelspec": {
   "display_name": "Python 3 (ipykernel)",
   "language": "python",
   "name": "python3"
  },
  "language_info": {
   "codemirror_mode": {
    "name": "ipython",
    "version": 3
   },
   "file_extension": ".py",
   "mimetype": "text/x-python",
   "name": "python",
   "nbconvert_exporter": "python",
   "pygments_lexer": "ipython3",
   "version": "3.10.9"
  }
 },
 "nbformat": 4,
 "nbformat_minor": 5
}
