{
 "cells": [
  {
   "cell_type": "markdown",
   "metadata": {},
   "source": [
    "# Boston House Price Prediction"
   ]
  },
  {
   "cell_type": "markdown",
   "metadata": {},
   "source": [
    "# 4) Data Analytics I\n",
    "Create a Linear Regression Model using Python/R to predict home prices using Boston Housing Dataset (https://www.kaggle.com/c/boston-housing). The Boston Housing dataset contains \n",
    "information about various houses in Boston through different parameters. There are 506 samples and 14 feature variables in this dataset.\n",
    "\n",
    "The objective is to predict the value of prices of the house using the given features."
   ]
  },
  {
   "cell_type": "markdown",
   "metadata": {},
   "source": [
    "*In this project we are going to use Machine Learning to predict the house prices of city named Boston in US.*\n",
    "\n",
    "*The data was drawn from the Boston Standard Metropolitan Statistical Area (SMSA) in 1970.*\n",
    "\n",
    "*There are several features given for a house and we have to predicts its value as accurate as possible.*"
   ]
  },
  {
   "cell_type": "markdown",
   "metadata": {},
   "source": [
    "# 0. Overview\n",
    "\n",
    "Below is the overview of the whole project, what all things we will be doing, step wise.\n",
    "\n",
    "\n",
    "- 1. Importing Libraries\n",
    "\n",
    "\n",
    "- 2. Exploring Dataset\n",
    "    - 2.1. We will be importing the dataset using Pandas library.\n",
    "    - 2.2. Finding variables which are useful for prediction.\n",
    "\n",
    "\n",
    "- 3. Univariate and Multivariate Analysis  \n",
    "    - 3.1 MEDV\n",
    "    - 3.2 TAX\n",
    "    - 3.3 PTRATIO\n",
    "    - 3.4 LSTAT\n",
    "    - 3.5 RM\n",
    "\n",
    "\n",
    "- 4. Splitting Dataset into Train and Test Set\n",
    "\n",
    "\n",
    "- 5. Multiple Linear Regression\n",
    "    - 5.1 Model Prepration\n",
    "    - 5.2 Model Evaluation\n",
    "    - 5.3 Model Interpretation\n",
    "\n",
    "\n",
    "\n",
    "\n",
    "- 6. Conclusion\n",
    "---"
   ]
  },
  {
   "cell_type": "markdown",
   "metadata": {},
   "source": [
    "# 1. Importing Libraries"
   ]
  },
  {
   "cell_type": "markdown",
   "metadata": {},
   "source": [
    "First we are importing all the important libraries we are going to use in this project and if we need any other library, we will import it at that time only."
   ]
  },
  {
   "cell_type": "code",
   "execution_count": 1,
   "metadata": {},
   "outputs": [],
   "source": [
    "#importing libraries\n",
    "import numpy as np\n",
    "import pandas as pd\n",
    "import matplotlib.pyplot as plt\n",
    "import seaborn as sns\n",
    "%matplotlib inline\n",
    "\n",
    "import warnings #to remove warning from the notebook\n",
    "warnings.filterwarnings(action='ignore')"
   ]
  },
  {
   "cell_type": "markdown",
   "metadata": {},
   "source": [
    "# 2. Exploring Dataset"
   ]
  },
  {
   "cell_type": "markdown",
   "metadata": {},
   "source": [
    "## 2.1 Loading Dataset"
   ]
  },
  {
   "cell_type": "markdown",
   "metadata": {},
   "source": [
    "Here we are going to import our **Boston House Price** dataset and will see how it looks o_o"
   ]
  },
  {
   "cell_type": "code",
   "execution_count": 3,
   "metadata": {
    "scrolled": false
   },
   "outputs": [
    {
     "data": {
      "text/html": [
       "<div>\n",
       "<style scoped>\n",
       "    .dataframe tbody tr th:only-of-type {\n",
       "        vertical-align: middle;\n",
       "    }\n",
       "\n",
       "    .dataframe tbody tr th {\n",
       "        vertical-align: top;\n",
       "    }\n",
       "\n",
       "    .dataframe thead th {\n",
       "        text-align: right;\n",
       "    }\n",
       "</style>\n",
       "<table border=\"1\" class=\"dataframe\">\n",
       "  <thead>\n",
       "    <tr style=\"text-align: right;\">\n",
       "      <th></th>\n",
       "      <th>CRIM</th>\n",
       "      <th>ZN</th>\n",
       "      <th>INDUS</th>\n",
       "      <th>CHAS</th>\n",
       "      <th>NOX</th>\n",
       "      <th>RM</th>\n",
       "      <th>AGE</th>\n",
       "      <th>DIS</th>\n",
       "      <th>RAD</th>\n",
       "      <th>TAX</th>\n",
       "      <th>PTRATIO</th>\n",
       "      <th>B</th>\n",
       "      <th>LSTAT</th>\n",
       "      <th>MEDV</th>\n",
       "    </tr>\n",
       "  </thead>\n",
       "  <tbody>\n",
       "    <tr>\n",
       "      <th>0</th>\n",
       "      <td>0.00632</td>\n",
       "      <td>18.0</td>\n",
       "      <td>2.31</td>\n",
       "      <td>0</td>\n",
       "      <td>0.538</td>\n",
       "      <td>6.575</td>\n",
       "      <td>65.2</td>\n",
       "      <td>4.0900</td>\n",
       "      <td>1</td>\n",
       "      <td>296.0</td>\n",
       "      <td>15.3</td>\n",
       "      <td>396.90</td>\n",
       "      <td>4.98</td>\n",
       "      <td>24.0</td>\n",
       "    </tr>\n",
       "    <tr>\n",
       "      <th>1</th>\n",
       "      <td>0.02731</td>\n",
       "      <td>0.0</td>\n",
       "      <td>7.07</td>\n",
       "      <td>0</td>\n",
       "      <td>0.469</td>\n",
       "      <td>6.421</td>\n",
       "      <td>78.9</td>\n",
       "      <td>4.9671</td>\n",
       "      <td>2</td>\n",
       "      <td>242.0</td>\n",
       "      <td>17.8</td>\n",
       "      <td>396.90</td>\n",
       "      <td>9.14</td>\n",
       "      <td>21.6</td>\n",
       "    </tr>\n",
       "    <tr>\n",
       "      <th>2</th>\n",
       "      <td>0.02729</td>\n",
       "      <td>0.0</td>\n",
       "      <td>7.07</td>\n",
       "      <td>0</td>\n",
       "      <td>0.469</td>\n",
       "      <td>7.185</td>\n",
       "      <td>61.1</td>\n",
       "      <td>4.9671</td>\n",
       "      <td>2</td>\n",
       "      <td>242.0</td>\n",
       "      <td>17.8</td>\n",
       "      <td>392.83</td>\n",
       "      <td>4.03</td>\n",
       "      <td>34.7</td>\n",
       "    </tr>\n",
       "    <tr>\n",
       "      <th>3</th>\n",
       "      <td>0.03237</td>\n",
       "      <td>0.0</td>\n",
       "      <td>2.18</td>\n",
       "      <td>0</td>\n",
       "      <td>0.458</td>\n",
       "      <td>6.998</td>\n",
       "      <td>45.8</td>\n",
       "      <td>6.0622</td>\n",
       "      <td>3</td>\n",
       "      <td>222.0</td>\n",
       "      <td>18.7</td>\n",
       "      <td>394.63</td>\n",
       "      <td>2.94</td>\n",
       "      <td>33.4</td>\n",
       "    </tr>\n",
       "    <tr>\n",
       "      <th>4</th>\n",
       "      <td>0.06905</td>\n",
       "      <td>0.0</td>\n",
       "      <td>2.18</td>\n",
       "      <td>0</td>\n",
       "      <td>0.458</td>\n",
       "      <td>7.147</td>\n",
       "      <td>54.2</td>\n",
       "      <td>6.0622</td>\n",
       "      <td>3</td>\n",
       "      <td>222.0</td>\n",
       "      <td>18.7</td>\n",
       "      <td>396.90</td>\n",
       "      <td>5.33</td>\n",
       "      <td>36.2</td>\n",
       "    </tr>\n",
       "  </tbody>\n",
       "</table>\n",
       "</div>"
      ],
      "text/plain": [
       "      CRIM    ZN  INDUS  CHAS    NOX     RM   AGE     DIS  RAD    TAX  \\\n",
       "0  0.00632  18.0   2.31     0  0.538  6.575  65.2  4.0900    1  296.0   \n",
       "1  0.02731   0.0   7.07     0  0.469  6.421  78.9  4.9671    2  242.0   \n",
       "2  0.02729   0.0   7.07     0  0.469  7.185  61.1  4.9671    2  242.0   \n",
       "3  0.03237   0.0   2.18     0  0.458  6.998  45.8  6.0622    3  222.0   \n",
       "4  0.06905   0.0   2.18     0  0.458  7.147  54.2  6.0622    3  222.0   \n",
       "\n",
       "   PTRATIO       B  LSTAT  MEDV  \n",
       "0     15.3  396.90   4.98  24.0  \n",
       "1     17.8  396.90   9.14  21.6  \n",
       "2     17.8  392.83   4.03  34.7  \n",
       "3     18.7  394.63   2.94  33.4  \n",
       "4     18.7  396.90   5.33  36.2  "
      ]
     },
     "execution_count": 3,
     "metadata": {},
     "output_type": "execute_result"
    }
   ],
   "source": [
    "#loading dataset\n",
    "name= ['CRIM', 'ZN', 'INDUS', 'CHAS', 'NOX', 'RM', 'AGE', 'DIS', 'RAD', 'TAX', 'PTRATIO', 'B', 'LSTAT', 'MEDV']\n",
    "df = pd.read_csv(filepath_or_buffer='housing.csv',delim_whitespace=True,names=name)\n",
    "df.head()"
   ]
  },
  {
   "cell_type": "markdown",
   "metadata": {},
   "source": [
    "**Boston House Price** dataset has 14 features and their description is given as follows:\n",
    "- CRIM     per capita crime rate by town\n",
    "- ZN       proportion of residential land zoned for lots over 25,000 sq.ft.\n",
    "- INDUS    proportion of non-retail business acres per town\n",
    "- CHAS     Charles River dummy variable (= 1 if tract bounds river; 0 otherwise)\n",
    "- NOX      nitric oxides concentration (parts per 10 million)\n",
    "- RM       average number of rooms per dwelling\n",
    "- AGE      proportion of owner-occupied units built prior to 1940\n",
    "- DIS      weighted distances to five Boston employment centres\n",
    "- RAD      index of accessibility to radial highways\n",
    "- TAX      full-value property-tax rate per dollar 10,000.\n",
    "- PTRATIO  pupil-teacher ratio by town\n",
    "- B        1000(Bk - 0.63)^2 where Bk is the proportion of blacks by town\n",
    "- LSTAT    % lower status of the population\n",
    "- MEDV     Median value of owner-occupied homes in $1000's\n",
    "\n",
    "Here main thing to notice is that **MEDV** is the outcome variable which we need to predict and all other variables are predictor variables."
   ]
  },
  {
   "cell_type": "code",
   "execution_count": null,
   "metadata": {
    "scrolled": true
   },
   "outputs": [],
   "source": [
    "#shape of our dataset\n",
    "df.shape"
   ]
  },
  {
   "cell_type": "markdown",
   "metadata": {},
   "source": [
    "This data set has 14 features and 506 rows i.e. details of 506 houses."
   ]
  },
  {
   "cell_type": "code",
   "execution_count": null,
   "metadata": {
    "scrolled": true
   },
   "outputs": [],
   "source": [
    "#information about the data\n",
    "df.info()"
   ]
  },
  {
   "cell_type": "markdown",
   "metadata": {},
   "source": [
    "We can see that all features in the dataset are numeric type either float or int. There is no categorical variable, which makes our life little easier here :)"
   ]
  },
  {
   "cell_type": "code",
   "execution_count": null,
   "metadata": {
    "scrolled": true
   },
   "outputs": [],
   "source": [
    "#checking for missing data\n",
    "df.isnull().sum()\n",
    "#there is no missing value in the data"
   ]
  },
  {
   "cell_type": "markdown",
   "metadata": {},
   "source": [
    "We noticed that there are *No Missing* values in the dataset which again reduced our work load. Cheers!"
   ]
  },
  {
   "cell_type": "markdown",
   "metadata": {},
   "source": [
    "## 2.2 Finding variables which are useful for prediction"
   ]
  },
  {
   "cell_type": "code",
   "execution_count": null,
   "metadata": {
    "scrolled": false
   },
   "outputs": [],
   "source": [
    "plt.figure(figsize=(12,12))\n",
    "sns.heatmap(data=df.corr().round(2),annot=True,cmap='coolwarm',linewidths=0.2,square=True)"
   ]
  },
  {
   "cell_type": "markdown",
   "metadata": {},
   "source": [
    "The Big colorful picture above which is called *Heatmap* helps us to understand how features are correlated to each other.\n",
    "- Postive sign implies postive correlation between two features whereas Negative sign implies negative correlation between two features.\n",
    "\n",
    "\n",
    "- I am here interested to know which features have good correlation with our dependent variable MEDV and can help in having good predictions.\n",
    "\n",
    "\n",
    "- I observed that INDUS, RM, TAX, PTRATIO and LSTAT shows some good correaltion with MEDV and I am interested to know more about them.\n",
    "\n",
    "\n",
    "- However I noticed that INDUS shows good correlation with TAX and LSAT which is a pain point for us :(\n",
    "  \n",
    "  because it leads to **Multicollinearity**. So I decided NOT to consider this feature and do further analysis with other 5 remaining features."
   ]
  },
  {
   "cell_type": "code",
   "execution_count": null,
   "metadata": {
    "scrolled": false
   },
   "outputs": [],
   "source": [
    "#since some of these features shows quite good and very good correlation with our predictive variable Houese Price(MEDV)\n",
    "df1 = df[['RM','TAX','PTRATIO','LSTAT','MEDV']]\n",
    "df1.head()"
   ]
  },
  {
   "cell_type": "markdown",
   "metadata": {},
   "source": [
    "Now we have created a new dataset consisting of only those variables which we selected after analysing Heatmap."
   ]
  },
  {
   "cell_type": "code",
   "execution_count": null,
   "metadata": {
    "scrolled": false
   },
   "outputs": [],
   "source": [
    "sns.pairplot(data=df1)"
   ]
  },
  {
   "cell_type": "markdown",
   "metadata": {},
   "source": [
    "These 5x5 figures above helps us to understand how data in each variable (feature) is distributed with itself and with others.\n",
    "\n",
    "**Observations**\n",
    "- As we can see that RM, LSTAT and MEDV are quite normally distributed.\n",
    "\n",
    "\n",
    "- Also we can see that RM and LSTAT shows kind of good Linear relationship with MEDV.\n",
    "\n",
    "\n",
    "- There seems to have presence of some outliers in the dataset, we will study about them in some time."
   ]
  },
  {
   "cell_type": "code",
   "execution_count": null,
   "metadata": {
    "scrolled": true
   },
   "outputs": [],
   "source": [
    "#description about data\n",
    "desc = df1.describe().round(2)\n",
    "desc"
   ]
  },
  {
   "cell_type": "markdown",
   "metadata": {},
   "source": [
    "Above table displays measures of central tendency like Mean, Median (50%) etc. We can see number of entries for each variable which is same as 506.\n",
    "\n",
    "**Observations**\n",
    "- Maximum value in MEDV and LSTAT are much higher than 75% of data points, which is kind of alarming situtaion for me.\n",
    "\n",
    "\n",
    "- We will study each of the feature seprately and see how data is distributed and if there are any outliers or not."
   ]
  },
  {
   "cell_type": "markdown",
   "metadata": {},
   "source": [
    "# 3. Univariate and Multivariate Analysis"
   ]
  },
  {
   "cell_type": "markdown",
   "metadata": {},
   "source": [
    "## 3.1 MEDV"
   ]
  },
  {
   "cell_type": "code",
   "execution_count": null,
   "metadata": {
    "scrolled": true
   },
   "outputs": [],
   "source": [
    "#Box Plot and Distribution Plot for Dependent variable MEDV\n",
    "plt.figure(figsize=(20,3))\n",
    "\n",
    "plt.subplot(1,2,1)\n",
    "sns.boxplot(df1.MEDV,color='#005030')\n",
    "plt.title('Box Plot of MEDV')\n",
    "\n",
    "plt.subplot(1,2,2)\n",
    "sns.distplot(a=df1.MEDV,color='#500050')\n",
    "plt.title('Distribution Plot of MEDV')\n",
    "plt.show()"
   ]
  },
  {
   "cell_type": "markdown",
   "metadata": {},
   "source": [
    "From above two figures we can see observe that:\n",
    "- MEDV is normally distributed\n",
    "- It contains some extreme values which could be potential outliers\n",
    "\n",
    "Next we are going to observe data points which lies outside wiskers.\n",
    "\n",
    "*Q3 + 1.5 * IQR*  <  **Potential Outliers**  <  *Q1 - 1.5 * IQR*\n",
    "- Q3 -> Quartile 3, Under which 75% of data lies\n",
    "- Q1 -> Quartile 1, Under which 25% of data lies\n",
    "- IQR -> Inter-Quartile Range, Q3 - Q1"
   ]
  },
  {
   "cell_type": "code",
   "execution_count": null,
   "metadata": {
    "scrolled": true
   },
   "outputs": [],
   "source": [
    "MEDV_Q3 = desc['MEDV']['75%']\n",
    "MEDV_Q1 = desc['MEDV']['25%']\n",
    "MEDV_IQR = MEDV_Q3 - MEDV_Q1\n",
    "MEDV_UV = MEDV_Q3 + 1.5*MEDV_IQR\n",
    "MEDV_LV = MEDV_Q1 - 1.5*MEDV_IQR\n",
    "\n",
    "df1[df1['MEDV']<MEDV_LV]"
   ]
  },
  {
   "cell_type": "markdown",
   "metadata": {},
   "source": [
    "**Observations:**\n",
    "- For these two low house prices, we can see that TAX = 666 which is very high for a house with approx 5 rooms.\n",
    "- For these two low house prices, we can see that LSTAT is also  high.\n",
    "\n",
    "**Conclusion:**\n",
    "- Since both TAX and LSTAT are negatively correlated to MEDV which means higher the TAX and LSTAT lower will be the house price and vica-versa.\n",
    "- I find it meaningful to have such low house prices.\n",
    "- Therefore, I will keep these data points."
   ]
  },
  {
   "cell_type": "code",
   "execution_count": null,
   "metadata": {
    "scrolled": false
   },
   "outputs": [],
   "source": [
    "df1[df1['MEDV']>MEDV_UV].sort_values(by=['MEDV','RM'])"
   ]
  },
  {
   "cell_type": "markdown",
   "metadata": {},
   "source": [
    "**Observations:**\n",
    "- For house prices = 50, it is observed that number of Room ranges from 5 to 9 (approx.) which is quite unusual.\n",
    "- Also for these houses TAX ranges from low to high.\n",
    "- For houses price between 37 to less than 50, RM is higher than 75% of the total data points. Since RM is positively correlated to MEDV, so this could be reason for little higher house prices.\n",
    "- Also for these houses PTRATIO and LSTAT lies in 25% - 50% of the total observation respectively. Since PTRATIO and LSAT are negatively correlated to MEDV so this could be reason for little higher house prices.\n",
    "\n",
    "**Conclusion:**\n",
    "- I am going to DROP ALL entries whose MEDV = 50 because I feel these entries are outliers and can create problem in having good predicitions.\n",
    "- I am going to keep all entries having MEDV between 37 to less than 50, since I could not observe any unusual behaviour for them."
   ]
  },
  {
   "cell_type": "code",
   "execution_count": null,
   "metadata": {
    "scrolled": true
   },
   "outputs": [],
   "source": [
    "print(f'Shape of dataset before remving Outliers: {df1.shape}')\n",
    "df2 = df1[~(df1['MEDV']==50)]\n",
    "print(f'Shape of dataset after remving Outliers: {df2.shape}')"
   ]
  },
  {
   "cell_type": "markdown",
   "metadata": {},
   "source": [
    "As we can see that we have deleted 16 rows from out dataset having MEDV = 50"
   ]
  },
  {
   "cell_type": "markdown",
   "metadata": {},
   "source": [
    "## 3.2 TAX"
   ]
  },
  {
   "cell_type": "code",
   "execution_count": null,
   "metadata": {
    "scrolled": true
   },
   "outputs": [],
   "source": [
    "#Box Plot, Distribution Plot and Scatter Plot for TAX\n",
    "plt.figure(figsize=(20,3))\n",
    "\n",
    "plt.subplot(1,3,1)\n",
    "sns.boxplot(df2.TAX,color='#005030')\n",
    "plt.title('Box Plot of TAX')\n",
    "\n",
    "plt.subplot(1,3,2)\n",
    "sns.distplot(a=df2.TAX,color='#500050')\n",
    "plt.title('Distribution Plot of TAX')\n",
    "\n",
    "plt.subplot(1,3,3)\n",
    "sns.scatterplot(df2.TAX,df2.MEDV)\n",
    "plt.title('Scatter Plot of TAX vs MEDV')\n",
    "\n",
    "plt.show()"
   ]
  },
  {
   "cell_type": "markdown",
   "metadata": {},
   "source": [
    "From above three figures we can observe that:\n",
    "- TAX is NOT normally distributed\n",
    "- Though Boxplot does not show any outlier but there are some extreme TAX values in the dataset which is bothering me.\n",
    "- Also from the scatter plot we can observe that for these extreme TAX values, MEDV ranges from low to high."
   ]
  },
  {
   "cell_type": "code",
   "execution_count": null,
   "metadata": {
    "scrolled": true
   },
   "outputs": [],
   "source": [
    "temp_df = df2[df1['TAX']>600].sort_values(by=['RM','MEDV'])\n",
    "temp_df.shape"
   ]
  },
  {
   "cell_type": "markdown",
   "metadata": {},
   "source": [
    "There are total 132 entries in TAX mostly having value 666 which I thinks is a *DEVIL'S* number. Now lets deep dive inside them."
   ]
  },
  {
   "cell_type": "code",
   "execution_count": null,
   "metadata": {
    "scrolled": false
   },
   "outputs": [],
   "source": [
    "temp_df"
   ]
  },
  {
   "cell_type": "code",
   "execution_count": null,
   "metadata": {},
   "outputs": [],
   "source": [
    "temp_df.describe()"
   ]
  },
  {
   "cell_type": "markdown",
   "metadata": {},
   "source": [
    "**Observations:**\n",
    "- RM for these entries lies between 3.5 to 8.78.\n",
    "- PTRATIO for almost all of these entries is same and equal to 20.20.\n",
    "- LSTAT for these entries lies between 2.96 to 37.97.\n",
    "- MEDV for these entries lies between 5 to 29.80.\n",
    "- All these observations are very unusual, it seems impossible to have such high TAX values for all these houses.\n",
    "- These values most likely missing values which were imputed casually by someone.\n",
    "\n",
    "**Conclusion:**\n",
    "- Since LSTAT is most correlated to TAX as seen above in Heatmap, so I am going to replace those 132 TAX values with mean of remaining TAX values dividing in some intervals with the help of LSTAT.\n",
    "- Interval 1: TAX_10 -> Replacing extreme TAX values having LSTAT is between 0 to 10 with mean of other TAX values whose LSTAT is between 0 to 10.\n",
    "- Interval 2: TAX_20 -> Replacing extreme TAX values having LSTAT is between 10 to 20 with mean of other TAX values whose LSTAT is between 10 to 20.\n",
    "- Interval 3: TAX_30 -> Replacing extreme TAX values having LSTAT is between 20 to 30 with mean of other TAX values whose LSTAT is between 20 to 30.\n",
    "- Interval 4: TAX_40 -> Replacing extreme TAX values having LSTAT >= 30 with mean of other TAX values whose LSTAT >= 30."
   ]
  },
  {
   "cell_type": "code",
   "execution_count": null,
   "metadata": {
    "scrolled": true
   },
   "outputs": [],
   "source": [
    "TAX_10 = df2[(df2['TAX']<600) & (df2['LSTAT']>=0) & (df2['LSTAT']<10)]['TAX'].mean()\n",
    "TAX_20 = df2[(df2['TAX']<600) & (df2['LSTAT']>=10) & (df2['LSTAT']<20)]['TAX'].mean()\n",
    "TAX_30 = df2[(df2['TAX']<600) & (df2['LSTAT']>=20) & (df2['LSTAT']<30)]['TAX'].mean()\n",
    "TAX_40 = df2[(df2['TAX']<600) & (df2['LSTAT']>=30)]['TAX'].mean()\n",
    "\n",
    "indexes = list(df2.index)\n",
    "for i in indexes:\n",
    "    if df2['TAX'][i] > 600:\n",
    "        if (0 <= df2['LSTAT'][i] < 10):\n",
    "            df2.at[i,'TAX'] = TAX_10\n",
    "        elif (10 <= df2['LSTAT'][i] < 20):\n",
    "            df2.at[i,'TAX'] = TAX_20\n",
    "        elif (20 <= df2['LSTAT'][i] < 30):\n",
    "            df2.at[i,'TAX'] = TAX_30\n",
    "        elif (df2['LSTAT'][i] >30):\n",
    "            df2.at[i,'TAX'] = TAX_40\n",
    "\n",
    "print('Values imputed successfully')"
   ]
  },
  {
   "cell_type": "code",
   "execution_count": null,
   "metadata": {},
   "outputs": [],
   "source": [
    "#This show all those extreme TAX values are replaced successfully\n",
    "df2[df2['TAX']>600]['TAX'].count()"
   ]
  },
  {
   "cell_type": "markdown",
   "metadata": {},
   "source": [
    "This shows that those values are replaced succesfully :)"
   ]
  },
  {
   "cell_type": "code",
   "execution_count": null,
   "metadata": {
    "scrolled": true
   },
   "outputs": [],
   "source": [
    "sns.distplot(a=df2.TAX,color='#500050')\n",
    "plt.title('Distribution Plot of TAX after replacing extreme values')\n",
    "plt.show()"
   ]
  },
  {
   "cell_type": "markdown",
   "metadata": {},
   "source": [
    "## 3.3 PTRATIO"
   ]
  },
  {
   "cell_type": "code",
   "execution_count": null,
   "metadata": {},
   "outputs": [],
   "source": [
    "#Box Plot, Distribution Plot and Scatter Plot for PTRATIO\n",
    "plt.figure(figsize=(20,3))\n",
    "\n",
    "plt.subplot(1,3,1)\n",
    "sns.boxplot(df2.PTRATIO,color='#005030')\n",
    "plt.title('Box Plot of PTRATIO')\n",
    "\n",
    "plt.subplot(1,3,2)\n",
    "sns.distplot(a=df2.PTRATIO,color='#500050')\n",
    "plt.title('Distribution Plot of PTRATIO')\n",
    "\n",
    "plt.subplot(1,3,3)\n",
    "sns.scatterplot(df2.PTRATIO,df2.MEDV)\n",
    "plt.title('Scatter Plot of PTRATIO vs MEDV')\n",
    "\n",
    "plt.show()"
   ]
  },
  {
   "cell_type": "markdown",
   "metadata": {},
   "source": [
    "From above three figures we can observe that:\n",
    "- PTRATIO is NOT normally distributed\n",
    "- There are few low PRATIO values in the dataset which is bothering me."
   ]
  },
  {
   "cell_type": "code",
   "execution_count": null,
   "metadata": {
    "scrolled": false
   },
   "outputs": [],
   "source": [
    "df2[df2['PTRATIO']<14].sort_values(by=['LSTAT','MEDV'])"
   ]
  },
  {
   "cell_type": "markdown",
   "metadata": {},
   "source": [
    "**Observations:**\n",
    "- PTRATIO for all above data points is same.\n",
    "- RM and MEDV is increasing simultaneously, as RM and MEDV are positively correlated, which is fine.\n",
    "- As LSTAT increases MEDV decreases, which follows negative correlation.\n",
    "\n",
    "**Conclusion:**\n",
    "- I don't observe any unusual behaviour for these data points. Therefore, I will keep them."
   ]
  },
  {
   "cell_type": "markdown",
   "metadata": {},
   "source": [
    "## 3.4 LSTAT"
   ]
  },
  {
   "cell_type": "code",
   "execution_count": null,
   "metadata": {
    "scrolled": false
   },
   "outputs": [],
   "source": [
    "#Box Plot, Distribution Plot and Scatter Plot for LSTAT\n",
    "plt.figure(figsize=(20,3))\n",
    "\n",
    "plt.subplot(1,3,1)\n",
    "sns.boxplot(df2.LSTAT,color='#005030')\n",
    "plt.title('Box Plot of LSTAT')\n",
    "\n",
    "plt.subplot(1,3,2)\n",
    "sns.distplot(a=df2.LSTAT,color='#500050')\n",
    "plt.title('Distribution Plot of LSTAT')\n",
    "\n",
    "plt.subplot(1,3,3)\n",
    "sns.scatterplot(df2.LSTAT,df2.MEDV)\n",
    "plt.title('Scatter Plot of LSTAT vs MEDV')\n",
    "\n",
    "plt.show()"
   ]
  },
  {
   "cell_type": "markdown",
   "metadata": {},
   "source": [
    "From above three figures we can observe that:\n",
    "- LSTAT is  normally distributed and skewed to right.\n",
    "- There are some high LSTAT values in the dataset which we will analyse."
   ]
  },
  {
   "cell_type": "code",
   "execution_count": null,
   "metadata": {},
   "outputs": [],
   "source": [
    "LSTAT_Q3 = desc['LSTAT']['75%']\n",
    "LSTAT_Q1 = desc['LSTAT']['25%']\n",
    "LSTAT_IQR = LSTAT_Q3 - LSTAT_Q1\n",
    "LSTAT_UV = LSTAT_Q3 + 1.5*LSTAT_IQR\n",
    "LSTAT_LV = LSTAT_Q1 - 1.5*LSTAT_IQR\n",
    "\n",
    "df2[df2['LSTAT']>LSTAT_UV].sort_values(by='LSTAT')"
   ]
  },
  {
   "cell_type": "markdown",
   "metadata": {},
   "source": [
    "**Observations:**\n",
    "- From above data, I observed that since LSAT value for these 7 houses is high resulting in low MEDV, which follows the negative correaltion and is True.\n",
    "- RM is low and TAX is little higher which means low MEDV and which is True.\n",
    "\n",
    "**Conclusion:**\n",
    "- I don't find any strong reason  to exclude these data points. Therefore, I will keep this data also for our model"
   ]
  },
  {
   "cell_type": "markdown",
   "metadata": {},
   "source": [
    "## 3.5 RM"
   ]
  },
  {
   "cell_type": "code",
   "execution_count": null,
   "metadata": {
    "scrolled": false
   },
   "outputs": [],
   "source": [
    "#Box Plot, Distribution Plot and Scatter Plot for RM\n",
    "plt.figure(figsize=(20,3))\n",
    "\n",
    "plt.subplot(1,3,1)\n",
    "sns.boxplot(df2.RM,color='#005030')\n",
    "plt.title('Box Plot of MEDV')\n",
    "\n",
    "plt.subplot(1,3,2)\n",
    "sns.distplot(a=df2.RM,color='#500050')\n",
    "plt.title('Distribution Plot of MEDV')\n",
    "\n",
    "plt.subplot(1,3,3)\n",
    "sns.scatterplot(df2.RM,df2.MEDV)\n",
    "plt.title('Scatter Plot of RM vs MEDV')\n",
    "\n",
    "plt.show()"
   ]
  },
  {
   "cell_type": "markdown",
   "metadata": {},
   "source": [
    "From above three figures we can observe that:\n",
    "- RM is normally distributed .\n",
    "- There are some low and high RM values in the dataset which we will analyse.\n",
    "- Scatter plot of RM vs MEDV show good Positive Linear Relationship."
   ]
  },
  {
   "cell_type": "code",
   "execution_count": null,
   "metadata": {
    "scrolled": true
   },
   "outputs": [],
   "source": [
    "RM_Q3 = desc['RM']['75%']\n",
    "RM_Q1 = desc['RM']['25%']\n",
    "RM_IQR = RM_Q3 - RM_Q1\n",
    "RM_UV = RM_Q3 + 1.5*RM_IQR\n",
    "RM_LV = RM_Q1 - 1.5*RM_IQR\n",
    "\n",
    "df2[df2['RM']<RM_LV].sort_values(by=['RM','MEDV'])"
   ]
  },
  {
   "cell_type": "markdown",
   "metadata": {},
   "source": [
    "**Observations:**\n",
    "- I am more concerned about two data points (row index - 365 & 367) where MEDV is higher while RM is very low, though RM and MEDV are positively correlated.\n",
    "- Also for these two data points TAX and PTRATIO are above 50% of data points respectively, though both are negatively correlated to MEDV.\n",
    "- For rest data points, I don't see any unusual behaviour.\n",
    "\n",
    "**Conclusion:**\n",
    "- I am going to delete those two data points (row index - 365 & 367) as it may influence the prediction capability of our model.\n",
    "- Also I am going to keep all other points."
   ]
  },
  {
   "cell_type": "code",
   "execution_count": null,
   "metadata": {
    "scrolled": true
   },
   "outputs": [],
   "source": [
    "print(f'Shape of dataset before removing data points: {df2.shape}')\n",
    "df3 = df2.drop(axis=0,index=[365,367])\n",
    "print(f'Shape of dataset before removing data points: {df3.shape}')"
   ]
  },
  {
   "cell_type": "markdown",
   "metadata": {},
   "source": [
    "We can see in the difference of shape of dataset after removing two data points (outliers)."
   ]
  },
  {
   "cell_type": "code",
   "execution_count": null,
   "metadata": {
    "scrolled": false
   },
   "outputs": [],
   "source": [
    "df3[df3['RM']>RM_UV].sort_values(by=['RM','MEDV'])"
   ]
  },
  {
   "cell_type": "markdown",
   "metadata": {},
   "source": [
    "**Observations:**\n",
    "- In the above data points, I am more concerned about one data point only (row index - 364) where MEDV is very low while RM is very high, though RM and MEDV are positively correlated.\n",
    "- Also for this data point LSTAT is low and MEDV is also low, though both are negatively correlated.\n",
    "- For rest data points, I don't see any unusual behaviour.\n",
    "\n",
    "**Conclusion:**\n",
    "- I am going to delete the data point (row index - 364) as I believe this could be human error while inputting the data.\n",
    "- Also I am going to keep all other points."
   ]
  },
  {
   "cell_type": "code",
   "execution_count": null,
   "metadata": {
    "scrolled": true
   },
   "outputs": [],
   "source": [
    "print(f'Shape of dataset before removing data points: {df3.shape}')\n",
    "df3 = df3.drop(axis=0,index=[364])\n",
    "print(f'Shape of dataset before removing data points: {df3.shape}')"
   ]
  },
  {
   "cell_type": "markdown",
   "metadata": {},
   "source": [
    "We can see in the difference of shape of dataset after removing one data point (outlier).\n",
    "\n",
    "---\n",
    "\n",
    "Now, we are done with univariate and multivariate analysis and I feel data is ready to put into the **Black Box** i.e. model.\n",
    "\n",
    "But before doing that we need to split our data into Training set and Test set and then we will make our model on Training set and test its accracy on Test set."
   ]
  },
  {
   "cell_type": "markdown",
   "metadata": {},
   "source": [
    "## 4. Splitting Dataset into Train and Test Set"
   ]
  },
  {
   "cell_type": "code",
   "execution_count": null,
   "metadata": {},
   "outputs": [],
   "source": [
    "#Now will split our dataset into Dependent variable and Independent variable\n",
    "\n",
    "X = df3.iloc[:,0:4].values\n",
    "y = df3.iloc[:,-1:].values"
   ]
  },
  {
   "cell_type": "markdown",
   "metadata": {},
   "source": [
    "First, we have divided our data into two sets:\n",
    "\n",
    "**X** contains all independent variables\n",
    "\n",
    "**y** contains independent variable MEDV"
   ]
  },
  {
   "cell_type": "code",
   "execution_count": null,
   "metadata": {
    "scrolled": true
   },
   "outputs": [],
   "source": [
    "print(f\"Shape of Dependent Variable X = {X.shape}\")\n",
    "print(f\"Shape of Independent Variable y = {y.shape}\")"
   ]
  },
  {
   "cell_type": "code",
   "execution_count": null,
   "metadata": {},
   "outputs": [],
   "source": [
    "def FeatureScaling(X):\n",
    "    \"\"\"\n",
    "    is function takes an array as an input, which needs to be scaled down.\n",
    "    Apply Standardization technique to it and scale down the features with mean = 0 and standard deviation = 1\n",
    "    \n",
    "    Input <- 2 dimensional numpy array\n",
    "    Returns -> Numpy array after applying Feature Scaling\n",
    "    \"\"\"\n",
    "    mean = np.mean(X,axis=0)\n",
    "    std = np.std(X,axis=0)\n",
    "    for i in range(X.shape[1]):\n",
    "        X[:,i] = (X[:,i]-mean[i])/std[i]\n",
    "\n",
    "    return X"
   ]
  },
  {
   "cell_type": "markdown",
   "metadata": {},
   "source": [
    "- Feature Scaling is a technique to standardize the independent features present in the data in a fixed range. \n",
    "\n",
    "\n",
    "- Few advantages of Feature Scaling the data are as follows:\n",
    "    - It makes training of model faster.\n",
    "    - It prevents the model from getting stuck in local optima.\n",
    "\n",
    "\n",
    "- Here, we are using Standard Scalar which will scale Independent variables such that distribution is now centred around 0, with a Standard Deviation of 1."
   ]
  },
  {
   "cell_type": "code",
   "execution_count": null,
   "metadata": {},
   "outputs": [],
   "source": [
    "X = FeatureScaling(X)"
   ]
  },
  {
   "cell_type": "markdown",
   "metadata": {},
   "source": [
    "Set of Independent variables X is now scaled down."
   ]
  },
  {
   "cell_type": "code",
   "execution_count": null,
   "metadata": {},
   "outputs": [],
   "source": [
    "m,n = X.shape\n",
    "X = np.append(arr=np.ones((m,1)),values=X,axis=1)"
   ]
  },
  {
   "cell_type": "markdown",
   "metadata": {},
   "source": [
    "We need to add a variable for **Bias** also. So, we are adding a new column of 1's in X as the fist column. "
   ]
  },
  {
   "cell_type": "code",
   "execution_count": null,
   "metadata": {},
   "outputs": [],
   "source": [
    "#Now we will spit our data into Train set and Test Set\n",
    "\n",
    "from sklearn.model_selection import train_test_split\n",
    "X_train, X_test, y_train, y_test = train_test_split(X,y,test_size=0.2,random_state = 42)\n",
    "\n",
    "print(f\"Shape of X_train = {X_train.shape}\")\n",
    "print(f\"Shape of X_test = {X_test.shape}\")\n",
    "print(f\"Shape of y_train = {y_train.shape}\")\n",
    "print(f\"Shape of y_test = {y_test.shape}\")"
   ]
  },
  {
   "cell_type": "markdown",
   "metadata": {},
   "source": [
    "Here we can see that we have split the data into Training Set (80% of total data) and Test Set (20% of total data)"
   ]
  },
  {
   "cell_type": "markdown",
   "metadata": {},
   "source": [
    "# 5. Multiple Linear Regression\n",
    "##### Here we are building Multiple Linear Regression from Scratch"
   ]
  },
  {
   "cell_type": "markdown",
   "metadata": {},
   "source": [
    "## 5.1 Model Prepration"
   ]
  },
  {
   "cell_type": "code",
   "execution_count": null,
   "metadata": {},
   "outputs": [],
   "source": [
    "#ComputeCost function determines the cost (sum of squared errors) \n",
    "\n",
    "def ComputeCost(X,y,theta):\n",
    "    \"\"\"\n",
    "    This function takes three inputs and uses the Cost Function to determine the cost (basically error of prediction vs\n",
    "    actual values)\n",
    "    Cost Function: Sum of square of error in predicted values divided by number of data points in the set\n",
    "    J = 1/(2*m) *  Summation(Square(Predicted values - Actual values))\n",
    "    \n",
    "    Input <- Take three numoy array X,y and theta\n",
    "    Return -> The cost calculated from the Cost Function\n",
    "    \"\"\"\n",
    "    m=X.shape[0] #number of data points in the set\n",
    "    J = (1/(2*m)) * np.sum((X.dot(theta) - y)**2)\n",
    "    return J"
   ]
  },
  {
   "cell_type": "markdown",
   "metadata": {},
   "source": [
    "This is the function which computes the Cost of sum of squared errors of our Multiple Linear Regression function."
   ]
  },
  {
   "cell_type": "code",
   "execution_count": null,
   "metadata": {},
   "outputs": [],
   "source": [
    "#Gradient Descent Algorithm to minimize the Cost and find best parameters in order to get best line for our dataset\n",
    "\n",
    "def GradientDescent(X,y,theta,alpha,no_of_iters):\n",
    "    \"\"\"\n",
    "    Gradient Descent Algorithm to minimize the Cost\n",
    "    \n",
    "    Input <- X, y and theta are numpy arrays\n",
    "            X -> Independent Variables/ Features\n",
    "            y -> Dependent/ Target Variable\n",
    "            theta -> Parameters \n",
    "            alpha -> Learning Rate i.e. size of each steps we take\n",
    "            no_of_iters -> Number of iterations we want to perform\n",
    "    \n",
    "    Return -> theta (numpy array) which are the best parameters for our dataset to fit a linear line\n",
    "             and Cost Computed (numpy array) for each iteration\n",
    "    \"\"\"\n",
    "    m=X.shape[0]\n",
    "    J_Cost = []\n",
    "    for i in range(no_of_iters):\n",
    "        error = np.dot(X.transpose(),(X.dot(theta)-y))\n",
    "        theta = theta - alpha * (1/m) * error\n",
    "        J_Cost.append(ComputeCost(X,y,theta))\n",
    "    \n",
    "    return theta, np.array(J_Cost)"
   ]
  },
  {
   "cell_type": "markdown",
   "metadata": {},
   "source": [
    "This is our Gradient Descent Algorithm which will minimize the *Error in Prediction*.\n",
    "\n",
    "Basically, it will find the best coefficients **theta** for our data which will represt Best Linear Line for our data.   "
   ]
  },
  {
   "cell_type": "code",
   "execution_count": null,
   "metadata": {},
   "outputs": [],
   "source": [
    "iters = 1000\n",
    "\n",
    "alpha1 = 0.001\n",
    "theta1 = np.zeros((X_train.shape[1],1))\n",
    "theta1, J_Costs1 = GradientDescent(X_train,y_train,theta1,alpha1,iters)\n",
    "\n",
    "alpha2 = 0.003\n",
    "theta2 = np.zeros((X_train.shape[1],1))\n",
    "theta2, J_Costs2 = GradientDescent(X_train,y_train,theta2,alpha2,iters)\n",
    "\n",
    "alpha3 = 0.01\n",
    "theta3 = np.zeros((X_train.shape[1],1))\n",
    "theta3, J_Costs3 = GradientDescent(X_train,y_train,theta3,alpha3,iters)\n",
    "\n",
    "alpha4 = 0.03\n",
    "theta4 = np.zeros((X_train.shape[1],1))\n",
    "theta4, J_Costs4 = GradientDescent(X_train,y_train,theta4,alpha4,iters)"
   ]
  },
  {
   "cell_type": "markdown",
   "metadata": {},
   "source": [
    "- Now we run the Gradient Descent Algorithm using different **learning rate** *alpha*. Number of iterations we will be performing = 1000\n",
    "\n",
    "\n",
    "- After that we will see what is *best learing rate* for our algorithm by visualizing the results.\n",
    "\n",
    "\n",
    "- Finally we will get best *theta*, which represents the best linear line for our data."
   ]
  },
  {
   "cell_type": "code",
   "execution_count": null,
   "metadata": {
    "scrolled": false
   },
   "outputs": [],
   "source": [
    "plt.figure(figsize=(8,5))\n",
    "plt.plot(J_Costs1,label = 'alpha = 0.001')\n",
    "plt.plot(J_Costs2,label = 'alpha = 0.003')\n",
    "plt.plot(J_Costs3,label = 'alpha = 0.01')\n",
    "plt.plot(J_Costs4,label = 'alpha = 0.03')\n",
    "plt.title('Convergence of Gradient Descent for different values of alpha')\n",
    "plt.xlabel('No. of iterations')\n",
    "plt.ylabel('Cost')\n",
    "plt.legend()\n",
    "plt.show()"
   ]
  },
  {
   "cell_type": "markdown",
   "metadata": {},
   "source": [
    "**Observations:**\n",
    "- We can see that for ***alpha = 0.03***, Gradient Descent algorithm converges to minimum much faster than for any other value of alpha (taken).\n",
    "\n",
    "\n",
    "- We can see that Gradient Descent algorithm converged to minimum Cost somewhere before 50 iterations for *alpha = 0.03*.\n",
    "\n",
    "\n",
    "- Gradient Descent convergenced fastest for *alpha = 0.03 -> 0.01 -> 0.003 -> 0.001*.\n",
    "\n",
    "\n",
    "- Thus, the best value of *alpha = 0.03* and corrosponding to it we will get best *theta* which is equal to '*theta4*."
   ]
  },
  {
   "cell_type": "code",
   "execution_count": null,
   "metadata": {},
   "outputs": [],
   "source": [
    "theta4"
   ]
  },
  {
   "cell_type": "markdown",
   "metadata": {},
   "source": [
    "Above is the value of theta corrosponding to alpha = 0.03"
   ]
  },
  {
   "cell_type": "code",
   "execution_count": null,
   "metadata": {},
   "outputs": [],
   "source": [
    "def Predict(X,theta):\n",
    "    \"\"\"\n",
    "    This function predicts the result for the unseen data\n",
    "    \"\"\"\n",
    "    y_pred = X.dot(theta)\n",
    "    return y_pred"
   ]
  },
  {
   "cell_type": "markdown",
   "metadata": {},
   "source": [
    "Predict fucntion predicts the house price i.e. MEDV on the new unseen data using the regression coefficients i.e. theta."
   ]
  },
  {
   "cell_type": "code",
   "execution_count": null,
   "metadata": {
    "scrolled": true
   },
   "outputs": [],
   "source": [
    "y_pred = Predict(X_test,theta4)\n",
    "y_pred[:5]"
   ]
  },
  {
   "cell_type": "markdown",
   "metadata": {},
   "source": [
    "Predicted value for Test Set is saved in *y_pred* successfully."
   ]
  },
  {
   "cell_type": "markdown",
   "metadata": {},
   "source": [
    "## 5.2 Model Evaluation"
   ]
  },
  {
   "cell_type": "code",
   "execution_count": null,
   "metadata": {
    "scrolled": true
   },
   "outputs": [],
   "source": [
    "plt.scatter(x=y_test,y=y_pred,alpha=0.5)\n",
    "plt.xlabel('y_test',size=12)\n",
    "plt.ylabel('y_pred',size=12)\n",
    "plt.title('Predicited Values vs Original Values (Test Set)',size=15)\n",
    "plt.show()"
   ]
  },
  {
   "cell_type": "markdown",
   "metadata": {},
   "source": [
    "In the above scatter plot we can see that the diagonal line is not that straight, which represents the differences in the actual and predictions."
   ]
  },
  {
   "cell_type": "code",
   "execution_count": null,
   "metadata": {},
   "outputs": [],
   "source": [
    "sns.residplot(y_pred,(y_pred-y_test))\n",
    "plt.xlabel('Predicited Values',size=12)\n",
    "plt.ylabel(\"Residues\",size=12)\n",
    "plt.title('Residual Plot',size=15)\n",
    "plt.show()"
   ]
  },
  {
   "cell_type": "code",
   "execution_count": null,
   "metadata": {
    "scrolled": true
   },
   "outputs": [],
   "source": [
    "sns.distplot(y_pred-y_test)\n",
    "plt.xlabel('Residual',size=12)\n",
    "plt.ylabel('Frquency',size=12)\n",
    "plt.title('Distribution of Residuals',size=15)\n",
    "plt.show()"
   ]
  },
  {
   "cell_type": "markdown",
   "metadata": {},
   "source": [
    "**Observations:**\n",
    "- *Distribution of Residuals Plot* shows residuals are quite normally distributed.\n",
    "\n",
    "\n",
    "- From above *Residual Plot*, I do not found any significant pattern in residues (errors or predicition).\n",
    "\n",
    "\n",
    "- I can conclude that our model is neither under fitting nor over fitting the data."
   ]
  },
  {
   "cell_type": "code",
   "execution_count": null,
   "metadata": {
    "scrolled": true
   },
   "outputs": [],
   "source": [
    "from sklearn import metrics\n",
    "r2= metrics.r2_score(y_test,y_pred)\n",
    "N,p = X_test.shape\n",
    "adj_r2 = 1-((1-r2)*(N-1))/(N-p-1)\n",
    "print(f'R^2 = {r2}')\n",
    "print(f'Adjusted R^2 = {adj_r2}')"
   ]
  },
  {
   "cell_type": "markdown",
   "metadata": {},
   "source": [
    "*R square* value above is calcualted on Test Set, though it is not very good but still it explains quite good linear relationship among independent variable and dependent variables."
   ]
  },
  {
   "cell_type": "code",
   "execution_count": null,
   "metadata": {
    "scrolled": true
   },
   "outputs": [],
   "source": [
    "from sklearn import metrics\n",
    "mse = metrics.mean_squared_error(y_test,y_pred)\n",
    "mae = metrics.mean_absolute_error(y_test,y_pred)\n",
    "rmse = np.sqrt(metrics.mean_squared_error(y_test,y_pred))\n",
    "print(f'Mean Squared Error: {mse}',f'Mean Absolute Error: {mae}',f'Root Mean Squared Error: {rmse}',sep='\\n')"
   ]
  },
  {
   "cell_type": "markdown",
   "metadata": {},
   "source": [
    "From above *Evaluation Metrices*, we can notice that Root Mean Squared Error is low for our Multiple Regression Model and that is good thing for us."
   ]
  },
  {
   "cell_type": "markdown",
   "metadata": {},
   "source": [
    "## 5.3 Model Interpretation"
   ]
  },
  {
   "cell_type": "code",
   "execution_count": null,
   "metadata": {},
   "outputs": [],
   "source": [
    "#coefficients of regression model\n",
    "coeff=np.array([y for x in theta4 for y in x]).round(2)\n",
    "features=['Bias','RM','TAX','PTRATIO','LSTAT']\n",
    "eqn = 'MEDV = '\n",
    "for f,c in zip(features,coeff):\n",
    "    eqn+=f\" + ({c} * {f})\";\n",
    "\n",
    "print(eqn)"
   ]
  },
  {
   "cell_type": "code",
   "execution_count": null,
   "metadata": {
    "scrolled": false
   },
   "outputs": [],
   "source": [
    "sns.barplot(x=features,y=coeff)\n",
    "plt.ylim([-5,25])\n",
    "plt.xlabel('Coefficient Names',size=12)\n",
    "plt.ylabel('Coefficient Values',size=12)\n",
    "plt.title('Visualising Regression Coefficients',size=15)\n",
    "plt.show()"
   ]
  },
  {
   "cell_type": "markdown",
   "metadata": {},
   "source": [
    "**Observations:**\n",
    "\n",
    " - **MEDV = (21.74 * Bias) + (2.74 * RM) + (-1.06 * TAX) + (-1.93 * PTRATIO) + (-3.03 * LSTAT)**\n",
    "\n",
    "\n",
    "- From above equation we can conclude that, for 1 unit increase in RM the House Price will go up by 2.74 units and vica-versa, considering other factors remaining constant.\n",
    "\n",
    "\n",
    "- Also for 1 unit increase in TAX the House Price will go down by 1.06 units and vica-versa, considering other factors remaining constant.\n",
    "\n",
    "\n",
    "- Also for 1 unit increase in PTRATIO the House Price will go down by 1.93 units and vica-versa, considering other factors remaining constant.\n",
    "\n",
    "\n",
    "- Also for 1 unit increase in LSTAT the House Price will go down by 3.03 units and vica-versa, considering other factors remaining constant.\n",
    "\n",
    "\n",
    "(Above four observations are quite meaningful also, since RM is positively correlated to MEDV and TAX, PRTATIO & LSTAT are negatively correlated to MEDV.)\n",
    "\n",
    "**Conclusion:**\n",
    "\n",
    "- *As we know, as the number of rooms increases price of the house increases. Whereas if the number of lower class people is high in a region (LSTAT) or if the student-teacher ratio is bigger (PTRATIO) i.e. less number of teachers for more number of students or if TAX rate is more, obiously House price will gp down.*\n",
    "\n",
    "\n",
    "- Our multiple regression model does not explains the data perfectly (as R sqare value is 0.77) but it still it explains the good relationship of House Price (i.e. MEDV) and other factors affecting the price.\n",
    "\n",
    "\n",
    "- We will fit few more models on this dataset and at the end will choose the model which explains the data best among all models.\n",
    "---"
   ]
  }
 ],
 "metadata": {
  "kernelspec": {
   "display_name": "Python 3 (ipykernel)",
   "language": "python",
   "name": "python3"
  },
  "language_info": {
   "codemirror_mode": {
    "name": "ipython",
    "version": 3
   },
   "file_extension": ".py",
   "mimetype": "text/x-python",
   "name": "python",
   "nbconvert_exporter": "python",
   "pygments_lexer": "ipython3",
   "version": "3.10.9"
  }
 },
 "nbformat": 4,
 "nbformat_minor": 2
}
